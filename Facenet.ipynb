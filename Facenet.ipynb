{
 "cells": [
  {
   "cell_type": "code",
   "execution_count": 1,
   "id": "5432554f-590e-41c2-8771-f89d9694c208",
   "metadata": {},
   "outputs": [
    {
     "name": "stdout",
     "output_type": "stream",
     "text": [
      "WARNING:tensorflow:From C:\\Users\\DELL\\AppData\\Local\\Programs\\Python\\Python312\\Lib\\site-packages\\tf_keras\\src\\losses.py:2976: The name tf.losses.sparse_softmax_cross_entropy is deprecated. Please use tf.compat.v1.losses.sparse_softmax_cross_entropy instead.\n",
      "\n"
     ]
    }
   ],
   "source": [
    "#!pip3 install deepface\n",
    "#!pip3 install tf-keras\n",
    "from deepface import DeepFace\n",
    "from sklearn.svm import SVC\n",
    "from sklearn.model_selection import train_test_split, cross_val_score\n",
    "from sklearn.metrics import accuracy_score, confusion_matrix, classification_report\n",
    "import numpy as np\n",
    "import os\n",
    "import pickle"
   ]
  },
  {
   "cell_type": "code",
   "execution_count": 2,
   "id": "ad3b6fcc-fb29-444b-8652-9e2217ee0c33",
   "metadata": {},
   "outputs": [],
   "source": [
    "# Load dataset and extract features\n",
    "def load_dataset(dataset_path):\n",
    "    X, y = [], []\n",
    "\n",
    "    for person_name in os.listdir(dataset_path):\n",
    "        person_folder = os.path.join(dataset_path, person_name)\n",
    "        if not os.path.isdir(person_folder):\n",
    "            continue\n",
    "\n",
    "        for img_name in os.listdir(person_folder):\n",
    "            img_path = os.path.join(person_folder, img_name)\n",
    "            \n",
    "            # Extract face embedding\n",
    "            try:\n",
    "                face = DeepFace.represent(img_path, model_name=\"Facenet512\", detector_backend=\"mtcnn\")\n",
    "                if face:  # Check if the embedding is not empty\n",
    "                    # Extract the embedding from the first element of the list\n",
    "                    embedding = face[0][\"embedding\"]\n",
    "                    X.append(np.array(embedding))\n",
    "                    y.append(person_name)\n",
    "            except Exception as e:\n",
    "                print(f\"Error processing image {img_path}: {e}\")\n",
    "                continue\n",
    "\n",
    "        print('Finished loading examples for class:', person_name)\n",
    "    return np.array(X), np.array(y)"
   ]
  },
  {
   "cell_type": "code",
   "execution_count": null,
   "id": "0acdeba9-7d2a-425a-a572-12b8d2753d1d",
   "metadata": {},
   "outputs": [],
   "source": [
    "# Load dataset\n",
    "dataset_path = \"dataset/\"\n",
    "X, y = load_dataset(dataset_path)"
   ]
  },
  {
   "cell_type": "code",
   "execution_count": null,
   "id": "c2dd3c79-fb30-4031-865f-d6b933993621",
   "metadata": {},
   "outputs": [],
   "source": [
    "with open(\"facenet_data.pkl\", \"wb\") as file:\n",
    "    pickle.dump((X, y), file)\n",
    "\n",
    "print(\"Data saved\")"
   ]
  },
  {
   "cell_type": "code",
   "execution_count": null,
   "id": "7aae1578-43fd-401e-8cc1-5ec38c942e89",
   "metadata": {},
   "outputs": [],
   "source": [
    "with open(\"facenet_data.pkl\", \"rb\") as file:\n",
    "    X, y = pickle.load(file)"
   ]
  },
  {
   "cell_type": "code",
   "execution_count": null,
   "id": "3a4f0cfd-0ccd-4920-ac25-522da6c0e4c5",
   "metadata": {},
   "outputs": [],
   "source": [
    "# Train KNN\n",
    "X_train, X_test, y_train, y_test = train_test_split(X, y, test_size=0.1, random_state=42)\n",
    "print(\"X_train: \",X_train.shape)\n",
    "print(\"X_test: \",X_test.shape)\n",
    "print(\"y_train: \",y_train.shape)\n",
    "print(\"y_test: \",y_test.shape)"
   ]
  },
  {
   "cell_type": "code",
   "execution_count": null,
   "id": "2d8d4c0c-4cfa-4645-9c77-5f1ec4935df0",
   "metadata": {},
   "outputs": [],
   "source": [
    "pca = PCA(n_components=150, svd_solver=\"randomized\", whiten=True)\n",
    "svm = SVC(C=1000, gamma=0.05, class_weight='balanced', kernel='linear', random_state=42)\n",
    "model = make_pipeline(pca, svm)\n",
    "\n",
    "svm.fit(X_train, y_train)\n",
    "y_pred = svm.predict(X_test)"
   ]
  },
  {
   "cell_type": "code",
   "execution_count": null,
   "id": "47d9e172-fe23-4c81-8795-f49e7d0d0fc3",
   "metadata": {},
   "outputs": [],
   "source": [
    "svm_train_acc = accuracy_score(y_train, svm.predict(X_train))\n",
    "svm_test_acc = accuracy_score(y_test, y_pred)\n",
    "\n",
    "print(f\"Training accuracy of SVM is : {svm_train_acc}\")\n",
    "print(f\"Test accuracy of SVM is : {svm_test_acc}\")\n",
    "\n",
    "print(confusion_matrix(y_test, y_pred))\n",
    "print(classification_report(y_test, y_pred))"
   ]
  },
  {
   "cell_type": "code",
   "execution_count": null,
   "id": "f371389d-d929-4108-8262-3879252df1a2",
   "metadata": {},
   "outputs": [],
   "source": []
  }
 ],
 "metadata": {
  "kernelspec": {
   "display_name": "Python 3 (ipykernel)",
   "language": "python",
   "name": "python3"
  },
  "language_info": {
   "codemirror_mode": {
    "name": "ipython",
    "version": 3
   },
   "file_extension": ".py",
   "mimetype": "text/x-python",
   "name": "python",
   "nbconvert_exporter": "python",
   "pygments_lexer": "ipython3",
   "version": "3.12.8"
  }
 },
 "nbformat": 4,
 "nbformat_minor": 5
}
